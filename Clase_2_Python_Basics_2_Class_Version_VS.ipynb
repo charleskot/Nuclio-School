{
  "nbformat": 4,
  "nbformat_minor": 0,
  "metadata": {
    "hide_input": false,
    "kernelspec": {
      "display_name": "Python 3",
      "language": "python",
      "name": "python3"
    },
    "language_info": {
      "codemirror_mode": {
        "name": "ipython",
        "version": 3
      },
      "file_extension": ".py",
      "mimetype": "text/x-python",
      "name": "python",
      "nbconvert_exporter": "python",
      "pygments_lexer": "ipython3",
      "version": "3.8.5"
    },
    "latex_envs": {
      "LaTeX_envs_menu_present": true,
      "autoclose": false,
      "autocomplete": true,
      "bibliofile": "biblio.bib",
      "cite_by": "apalike",
      "current_citInitial": 1,
      "eqLabelWithNumbers": true,
      "eqNumInitial": 1,
      "hotkeys": {
        "equation": "Ctrl-E",
        "itemize": "Ctrl-I"
      },
      "labels_anchors": false,
      "latex_user_defs": false,
      "report_style_numbering": false,
      "user_envs_cfg": false
    },
    "toc": {
      "base_numbering": 1,
      "nav_menu": {},
      "number_sections": true,
      "sideBar": true,
      "skip_h1_title": false,
      "title_cell": "Table of Contents",
      "title_sidebar": "Contents",
      "toc_cell": false,
      "toc_position": {},
      "toc_section_display": true,
      "toc_window_display": false
    },
    "varInspector": {
      "cols": {
        "lenName": 16,
        "lenType": 16,
        "lenVar": 40
      },
      "kernels_config": {
        "python": {
          "delete_cmd_postfix": "",
          "delete_cmd_prefix": "del ",
          "library": "var_list.py",
          "varRefreshCmd": "print(var_dic_list())"
        },
        "r": {
          "delete_cmd_postfix": ") ",
          "delete_cmd_prefix": "rm(",
          "library": "var_list.r",
          "varRefreshCmd": "cat(var_dic_list()) "
        }
      },
      "types_to_exclude": [
        "module",
        "function",
        "builtin_function_or_method",
        "instance",
        "_Feature"
      ],
      "window_display": false
    },
    "colab": {
      "name": "Clase 2 - Python Basics 2- Class Version-VS.ipynb",
      "provenance": [],
      "include_colab_link": true
    }
  },
  "cells": [
    {
      "cell_type": "markdown",
      "metadata": {
        "id": "view-in-github",
        "colab_type": "text"
      },
      "source": [
        "<a href=\"https://colab.research.google.com/github/charleskot/Nuclio-School/blob/master/Clase_2_Python_Basics_2_Class_Version_VS.ipynb\" target=\"_parent\"><img src=\"https://colab.research.google.com/assets/colab-badge.svg\" alt=\"Open In Colab\"/></a>"
      ]
    },
    {
      "cell_type": "markdown",
      "metadata": {
        "id": "ldjvR3iV1O90"
      },
      "source": [
        "![Nuclio logo](https://nuclio.school/wp-content/uploads/2018/12/nucleoDS-newBlack.png)"
      ]
    },
    {
      "cell_type": "markdown",
      "metadata": {
        "id": "ofa9qRlo1O94"
      },
      "source": [
        "# Introducción al Python 2/2\n",
        "\n",
        "## Operadores en Python\n",
        "\n",
        "Python aglutina un conjunto de operadores que actuan sobre variables y valores. \n",
        "\n",
        "Los operadores se dividen en los siguientes grupos:\n",
        "- Operadores aritméticos\n",
        "- Operadores de asignación\n",
        "- Operadores de comparación\n",
        "- Operadores lógicos\n",
        "- Operadores de identidad\n",
        "- Operadores de pertenencia\n",
        "- Operadores bitwise\n",
        "\n",
        "### Operadores Aritméticos\n",
        "\n",
        "Los operadores aritméticos se usan con valores numéricos para realizar operaciones matemáticas comunes\n"
      ]
    },
    {
      "cell_type": "markdown",
      "metadata": {
        "cell_style": "center",
        "id": "-MQNlVoV1O95"
      },
      "source": [
        "| Operador | Nombre | Ejemplo |\n",
        "|:--- |:--- | :--- |\n",
        "|+ |Suma|x + y|\n",
        "|- |Resta|x - y|\n",
        "|* |Multiplicación|x * y|\n",
        "|/ |División|x / y|\n",
        "|% |Módulo|x % y|\n",
        "|** |Exponenciación|x ** y|\n",
        "|// | Division entera|x // y|"
      ]
    },
    {
      "cell_type": "markdown",
      "metadata": {
        "id": "MbD8QZmT1O96"
      },
      "source": [
        "### Operadores de Asignación\n",
        "\n",
        "Los operdores de asignación se usan para asignar valores a variables"
      ]
    },
    {
      "cell_type": "markdown",
      "metadata": {
        "id": "IPO3kk161O96"
      },
      "source": [
        "| Operador | Nombre | Análogo |\n",
        "|:--- |:--- | :--- |\n",
        "| = |x = 5|x = 5|\n",
        "|+=\t|x += 3|x = x + 3|\n",
        "|-=\t|x -= 3|x = x - 3|\n",
        "|*=\t|x *= 3|x = x * 3| \n",
        "|/=\t|x /= 3|x = x / 3|\n",
        "|%=\t|x %= 3|x = x % 3|\n",
        "|//=|x //= 3\t|x = x // 3|\n",
        "|**=|x **= 3\t|x = x ** 3|\n",
        "|&=\t|x &= 3|x = x & 3|\n",
        "|\\|=\t|x \\|= 3|x = x \\| 3|"
      ]
    },
    {
      "cell_type": "markdown",
      "metadata": {
        "id": "d__D5OG61O97"
      },
      "source": [
        "### Operadores de comparación\n",
        "\n",
        "Se usan para comparar dos valores distintos"
      ]
    },
    {
      "cell_type": "markdown",
      "metadata": {
        "id": "myclGynY1O97"
      },
      "source": [
        "|   Operador      |   Descripción   |   Ejemplo   |\n",
        "|:--- |:--- | :--- |\n",
        "|==|Igual|x == y|\n",
        "|!=|No igual|x != y|\n",
        "|>|Mayor que|x > y|\n",
        "|<|Menor que |x < y|\n",
        "|>=|Mayor o igual que|x >= y|\n",
        "|<=|Menor o igual que|x <= y|"
      ]
    },
    {
      "cell_type": "markdown",
      "metadata": {
        "id": "eQ-6-0W71O98"
      },
      "source": [
        "### Operadores Lógicos\n",
        "\n",
        "Se usan para combinar sentencias condicionales"
      ]
    },
    {
      "cell_type": "markdown",
      "metadata": {
        "id": "SHXNk_R51O98"
      },
      "source": [
        "| Operador | Descripción | Ejemplo |\n",
        "|--- |:--- | --- |\n",
        "|and |Devuelve True si las dos instancias son ciertas|x < 5 and  x < 10|\n",
        "|or|Devuelve True si una de las dos instancias son ciertas e|x < 5 or x < 4|\n",
        "|not|Invierte el resultado, devuelve False si el resultado no es cierto|not(x < 5 and x < 10)  |          \n",
        "            "
      ]
    },
    {
      "cell_type": "markdown",
      "metadata": {
        "ExecuteTime": {
          "end_time": "2021-01-07T19:20:32.637532Z",
          "start_time": "2021-01-07T19:20:32.633537Z"
        },
        "heading_collapsed": true,
        "id": "SUbBAtEQ1O99"
      },
      "source": [
        "#### Ejercicio: Comprobar si el valor 700 es mayor que 27^2 y menor que 9^3 y si cumple alguna de las dos condiciones"
      ]
    },
    {
      "cell_type": "code",
      "metadata": {
        "id": "EKje46OW1O99"
      },
      "source": [
        ""
      ],
      "execution_count": null,
      "outputs": []
    },
    {
      "cell_type": "code",
      "metadata": {
        "id": "qVEa1xkG1O99"
      },
      "source": [
        ""
      ],
      "execution_count": null,
      "outputs": []
    },
    {
      "cell_type": "code",
      "metadata": {
        "id": "RjzfRPB21O9-"
      },
      "source": [
        ""
      ],
      "execution_count": null,
      "outputs": []
    },
    {
      "cell_type": "code",
      "metadata": {
        "id": "nv2ohm8x1O9-"
      },
      "source": [
        ""
      ],
      "execution_count": null,
      "outputs": []
    },
    {
      "cell_type": "markdown",
      "metadata": {
        "id": "d9PxXY6w1O9-"
      },
      "source": [
        "### Operadores de identidad\n",
        "\n",
        "Los operadores de identidad se usan para comparar objetos, no su valor, sino si son el mismo objeto con la misma alocación de memoria"
      ]
    },
    {
      "cell_type": "markdown",
      "metadata": {
        "id": "V1GlnA6C1O9-"
      },
      "source": [
        "| Operador | Descripción | Ejemplo |\n",
        "|--- |:--- | --- |\n",
        "|is |Devuelve True si las dos variables son el mismo objeto|x is y|\t\n",
        "|is not\t|Devuelve True si las dos variables No son el mismo objeto|x is not y|"
      ]
    },
    {
      "cell_type": "markdown",
      "metadata": {
        "id": "wDxOSV8X1O9_"
      },
      "source": [
        "### Operadores de pertenencia\n",
        "\n",
        "Se usan para checkear si una secuencia aparece en un objeto"
      ]
    },
    {
      "cell_type": "markdown",
      "metadata": {
        "id": "WyzWeH371O9_"
      },
      "source": [
        "| Operador | Descripción | Ejemplo |\n",
        "|--- |:--- | --- |\n",
        "|in |Devuelve True si la secuencia con el valor especificado aparece en el objeto|x in y|\t\n",
        "|not in\t|Devuelve True si la secuencia con el valor especifica no aparece en el objeto|x not in y|"
      ]
    },
    {
      "cell_type": "markdown",
      "metadata": {
        "id": "1cHpP0qO1O9_"
      },
      "source": [
        "## Introducción a Colecciones de Datos \n",
        "\n",
        "Existen 4 tipos de tipos de datos compuestos o de colección:\n",
        "- **Lista**: colección de datos ordenada y modificable. Permite miembros duplicados\n",
        "- **Tupla**: colección de datos ordenada y no modificable. Permite miembros duplicados\n",
        "- **Set**: colección de datos no ordenada y no indexada. No permite miembros duplicados\n",
        "- **Diccionario**: colección de datos no ordenada, modificable e indexada. No permite miembros duplicados"
      ]
    },
    {
      "cell_type": "markdown",
      "metadata": {
        "id": "OtSlA_ti1O9_"
      },
      "source": [
        "![title](https://miro.medium.com/max/4142/1*Det-kkoSw9T4IZ4XrypVNQ.png)"
      ]
    },
    {
      "cell_type": "markdown",
      "metadata": {
        "id": "OWfe1g7j1O-A"
      },
      "source": [
        "Al escoger un tipo de colección, es útil entender sus propiedades. Escoger el tipo correcto para un dataset particular puede implicar retención de significado y por lo tanto, incrementar eficiencia o seguridad.\n",
        "\n",
        "## Listas\n",
        "\n",
        "### Introducción y acceso a listas\n",
        "\n",
        "Una lista es una **colección de datos ordenada y modificable**. \n",
        "\n",
        "En Python las listas se constituyen mediante un **conjunto de elementos separados por comas y cerrador por brackets [ , ]**.\n",
        "\n",
        "#### Ejemplo"
      ]
    },
    {
      "cell_type": "code",
      "metadata": {
        "id": "yTn601aw1O-A"
      },
      "source": [
        "mi_lista = ['hola', 'como', 'estas', 1, True]"
      ],
      "execution_count": null,
      "outputs": []
    },
    {
      "cell_type": "code",
      "metadata": {
        "id": "rRmN3dey1O-B"
      },
      "source": [
        "mi_lista"
      ],
      "execution_count": null,
      "outputs": []
    },
    {
      "cell_type": "code",
      "metadata": {
        "id": "xIyy6n0o1O-B"
      },
      "source": [
        "type(mi_lista)"
      ],
      "execution_count": null,
      "outputs": []
    },
    {
      "cell_type": "code",
      "metadata": {
        "id": "vPh8SnFx1O-B"
      },
      "source": [
        ""
      ],
      "execution_count": null,
      "outputs": []
    },
    {
      "cell_type": "code",
      "metadata": {
        "ExecuteTime": {
          "end_time": "2021-01-30T16:06:18.942453Z",
          "start_time": "2021-01-30T16:06:18.926381Z"
        },
        "id": "eGDLsG981O-B"
      },
      "source": [
        "mi_lista = [\"de\",\"todo\"]"
      ],
      "execution_count": null,
      "outputs": []
    },
    {
      "cell_type": "code",
      "metadata": {
        "ExecuteTime": {
          "end_time": "2021-01-30T16:06:20.009331Z",
          "start_time": "2021-01-30T16:06:20.003329Z"
        },
        "id": "yjDeSjPQ1O-B"
      },
      "source": [
        "mi_lista"
      ],
      "execution_count": null,
      "outputs": []
    },
    {
      "cell_type": "code",
      "metadata": {
        "ExecuteTime": {
          "end_time": "2020-02-19T18:12:39.814081Z",
          "start_time": "2020-02-19T18:12:39.810134Z"
        },
        "id": "ndHWz0971O-B"
      },
      "source": [
        "mi_lista = [1, 2, 3 ]"
      ],
      "execution_count": null,
      "outputs": []
    },
    {
      "cell_type": "code",
      "metadata": {
        "ExecuteTime": {
          "end_time": "2020-02-19T18:12:42.483960Z",
          "start_time": "2020-02-19T18:12:42.477970Z"
        },
        "id": "UavkXopi1O-C"
      },
      "source": [
        "mi_lista"
      ],
      "execution_count": null,
      "outputs": []
    },
    {
      "cell_type": "code",
      "metadata": {
        "id": "67iUgNBS1O-C"
      },
      "source": [
        ""
      ],
      "execution_count": null,
      "outputs": []
    },
    {
      "cell_type": "code",
      "metadata": {
        "id": "A6rlan8a1O-C"
      },
      "source": [
        ""
      ],
      "execution_count": null,
      "outputs": []
    },
    {
      "cell_type": "code",
      "metadata": {
        "id": "heTGgJUD1O-C"
      },
      "source": [
        ""
      ],
      "execution_count": null,
      "outputs": []
    },
    {
      "cell_type": "markdown",
      "metadata": {
        "id": "ihonex4T1O-C"
      },
      "source": [
        "#### Acceder a elementos de la lista\n",
        "\n",
        "Para acceder a un elemento contenido dentro de una lista, lo haremos referenciando el índice numérico o posición que ocupa el elemento en la lista.\n",
        "\n",
        "**Importante!** **El indexado en una lista empieza en la posición 0**; es decir, el primer elemento de una lista tiene el índice 0\n",
        "\n",
        "#### Ejemplo"
      ]
    },
    {
      "cell_type": "code",
      "metadata": {
        "id": "u_CFjKdI1O-C"
      },
      "source": [
        ""
      ],
      "execution_count": null,
      "outputs": []
    },
    {
      "cell_type": "code",
      "metadata": {
        "id": "tWqTU7G81O-C"
      },
      "source": [
        ""
      ],
      "execution_count": null,
      "outputs": []
    },
    {
      "cell_type": "code",
      "metadata": {
        "id": "Lq35jaD_1O-C"
      },
      "source": [
        ""
      ],
      "execution_count": null,
      "outputs": []
    },
    {
      "cell_type": "markdown",
      "metadata": {
        "id": "SEX1jfpy1O-C"
      },
      "source": [
        "#### Ejercicio: Dividir el último valor de [4,5,78,6] entre el segundo valor de [3,8,2,0] usando indexado."
      ]
    },
    {
      "cell_type": "code",
      "metadata": {
        "id": "1_6EuJvK1O-D"
      },
      "source": [
        ""
      ],
      "execution_count": null,
      "outputs": []
    },
    {
      "cell_type": "code",
      "metadata": {
        "id": "79zLIWnh1O-D"
      },
      "source": [
        ""
      ],
      "execution_count": null,
      "outputs": []
    },
    {
      "cell_type": "code",
      "metadata": {
        "id": "3qA2t1h91O-D"
      },
      "source": [
        ""
      ],
      "execution_count": null,
      "outputs": []
    },
    {
      "cell_type": "markdown",
      "metadata": {
        "id": "jLh1O2J11O-D"
      },
      "source": [
        "#### Indexado negativo\n",
        "\n",
        "El indexado negativo nos permite **acceder a los elementos de la lista en orden inverso** (empezando desde el último elemento de la lista). \n",
        "\n",
        "Es decir, el índice -1 se refiere al último elemento de la lista, el índice -2 al penúltimo etc."
      ]
    },
    {
      "cell_type": "code",
      "metadata": {
        "id": "d7tuf2651O-D"
      },
      "source": [
        "mi_lista = [1,3,5,3,2,6,7,5]"
      ],
      "execution_count": null,
      "outputs": []
    },
    {
      "cell_type": "code",
      "metadata": {
        "id": "MPacQJ_J1O-D"
      },
      "source": [
        ""
      ],
      "execution_count": null,
      "outputs": []
    },
    {
      "cell_type": "code",
      "metadata": {
        "id": "YtRTgbsf1O-D"
      },
      "source": [
        ""
      ],
      "execution_count": null,
      "outputs": []
    },
    {
      "cell_type": "code",
      "metadata": {
        "id": "0bazrO-l1O-D"
      },
      "source": [
        ""
      ],
      "execution_count": null,
      "outputs": []
    },
    {
      "cell_type": "code",
      "metadata": {
        "id": "5SECs6Yo1O-D"
      },
      "source": [
        ""
      ],
      "execution_count": null,
      "outputs": []
    },
    {
      "cell_type": "markdown",
      "metadata": {
        "id": "1VT7ls6M1O-E"
      },
      "source": [
        "#### Rango de índices - selección múltiples elementos lista\n",
        "\n",
        "Para obtener un conjunto de elementos de una lista se puede especificar un rango de índices a seleccionar; especificando primera y última posición del rango.\n",
        "\n",
        "**Algunos remarks importantes**:\n",
        "- La última posición del rango no se incluye en el output; es decir **el rango es un intervalo abierto por la derecha: rango = [ ,)** \n",
        "- Si no se especifica posición inicial del rango, por default el rango empieza con el 1r elemento\n",
        "- SI no se especifica posición final del rango, por deault el rango coge hasta el último elemento\n",
        "\n",
        "Así, **el output** de seleccionar un rango de posiciones **de una lista es otra lista**"
      ]
    },
    {
      "cell_type": "code",
      "metadata": {
        "id": "FE7nlklR1O-E"
      },
      "source": [
        "mi_lista = ['hola', 'que', 'tal', 'h']"
      ],
      "execution_count": null,
      "outputs": []
    },
    {
      "cell_type": "code",
      "metadata": {
        "id": "fy_QG7L41O-E"
      },
      "source": [
        "mi_lista[0:4]"
      ],
      "execution_count": null,
      "outputs": []
    },
    {
      "cell_type": "code",
      "metadata": {
        "id": "ZO1lcWGJ1O-E"
      },
      "source": [
        "mi_lista[2:]"
      ],
      "execution_count": null,
      "outputs": []
    },
    {
      "cell_type": "code",
      "metadata": {
        "id": "OhxEKJcY1O-E"
      },
      "source": [
        ""
      ],
      "execution_count": null,
      "outputs": []
    },
    {
      "cell_type": "code",
      "metadata": {
        "id": "RUrqoUHp1O-E"
      },
      "source": [
        ""
      ],
      "execution_count": null,
      "outputs": []
    },
    {
      "cell_type": "markdown",
      "metadata": {
        "id": "qarqV8Yu1O-E"
      },
      "source": [
        "**Importante!**:\n",
        "- El punto de finalización del rango no se incluye en el output, es decir para sacar los elementos 1 y 2 de una lista tenemos que especificar el rango que empiece en la posición 0 hasta la posición 2 (ya que la posición 2 no se incluye en output)\n",
        "- Si no especificamos posición de inicio del rango, por default coge la posición 0 (o primer elemento)\n",
        "\n",
        "#### Ejemplo"
      ]
    },
    {
      "cell_type": "code",
      "metadata": {
        "ExecuteTime": {
          "end_time": "2021-01-30T16:36:06.369339Z",
          "start_time": "2021-01-30T16:36:06.355788Z"
        },
        "id": "VHDa_gYW1O-E"
      },
      "source": [
        "mi_lista_2 = ['manzana', 'piña', 'pomelo','mandarina','fresas']"
      ],
      "execution_count": null,
      "outputs": []
    },
    {
      "cell_type": "code",
      "metadata": {
        "id": "BmV2VhCP1O-E"
      },
      "source": [
        ""
      ],
      "execution_count": null,
      "outputs": []
    },
    {
      "cell_type": "code",
      "metadata": {
        "id": "lgnKpi1L1O-E"
      },
      "source": [
        ""
      ],
      "execution_count": null,
      "outputs": []
    },
    {
      "cell_type": "code",
      "metadata": {
        "id": "m_TRyQM71O-F"
      },
      "source": [
        ""
      ],
      "execution_count": null,
      "outputs": []
    },
    {
      "cell_type": "markdown",
      "metadata": {
        "id": "YAA2nwHo1O-F"
      },
      "source": [
        "#### Cambiar valor en una lista\n",
        "\n",
        "Para cambiar el valor de un elemento de una lista, simplemento tenemos que acceder a ese elemento y reasignarle un nuevo valor.\n",
        "\n",
        "#### Ejemplo"
      ]
    },
    {
      "cell_type": "code",
      "metadata": {
        "ExecuteTime": {
          "end_time": "2021-01-30T16:41:12.810067Z",
          "start_time": "2021-01-30T16:41:12.803520Z"
        },
        "id": "FEjFBbwH1O-F"
      },
      "source": [
        "mi_lista = [\"Juan\",\"Silvia\",\"Gustavo\",\"Laura\",\"Seo\"]"
      ],
      "execution_count": null,
      "outputs": []
    },
    {
      "cell_type": "code",
      "metadata": {
        "id": "BbYia1GS1O-F"
      },
      "source": [
        "mi_lista"
      ],
      "execution_count": null,
      "outputs": []
    },
    {
      "cell_type": "code",
      "metadata": {
        "id": "qRLcyhIS1O-F"
      },
      "source": [
        ""
      ],
      "execution_count": null,
      "outputs": []
    },
    {
      "cell_type": "code",
      "metadata": {
        "id": "aBS1suhR1O-F"
      },
      "source": [
        ""
      ],
      "execution_count": null,
      "outputs": []
    },
    {
      "cell_type": "code",
      "metadata": {
        "id": "yefrFoo81O-F"
      },
      "source": [
        ""
      ],
      "execution_count": null,
      "outputs": []
    },
    {
      "cell_type": "code",
      "metadata": {
        "id": "yp3fLTlO1O-F"
      },
      "source": [
        ""
      ],
      "execution_count": null,
      "outputs": []
    },
    {
      "cell_type": "code",
      "metadata": {
        "id": "ztKLRobN1O-F"
      },
      "source": [
        ""
      ],
      "execution_count": null,
      "outputs": []
    },
    {
      "cell_type": "code",
      "metadata": {
        "id": "-ZNF6aby1O-F"
      },
      "source": [
        ""
      ],
      "execution_count": null,
      "outputs": []
    },
    {
      "cell_type": "markdown",
      "metadata": {
        "id": "CLqufzxF1O-F"
      },
      "source": [
        "### Funciones de Lista"
      ]
    },
    {
      "cell_type": "markdown",
      "metadata": {
        "id": "kRXxvN4c1O-F"
      },
      "source": [
        "| Función | Descripción\n",
        "|:---|:---|\n",
        "|len(list)|Devuelve longitud de la lista\n",
        "|max(list)|Devuelve el elemento de máximo valor de la lista|\n",
        "|min(list)|Devuelve el elemento de mínimo valor de la lista||\n",
        "|list(seq)|Convierte la tupla en una lista|"
      ]
    },
    {
      "cell_type": "code",
      "metadata": {
        "id": "DX6-X2kX1O-G"
      },
      "source": [
        "mi_lista = [\"Juan\",\"Silvia\",\"Gustavo\",\"Laura\",\"Seo\"]"
      ],
      "execution_count": null,
      "outputs": []
    },
    {
      "cell_type": "code",
      "metadata": {
        "id": "elBoM7SO1O-G"
      },
      "source": [
        ""
      ],
      "execution_count": null,
      "outputs": []
    },
    {
      "cell_type": "code",
      "metadata": {
        "id": "K8XHNExE1O-G"
      },
      "source": [
        ""
      ],
      "execution_count": null,
      "outputs": []
    },
    {
      "cell_type": "code",
      "metadata": {
        "id": "GpAu_sZP1O-G"
      },
      "source": [
        ""
      ],
      "execution_count": null,
      "outputs": []
    },
    {
      "cell_type": "code",
      "metadata": {
        "id": "SJNOwM8Q1O-G"
      },
      "source": [
        ""
      ],
      "execution_count": null,
      "outputs": []
    },
    {
      "cell_type": "code",
      "metadata": {
        "id": "R-1aWdX61O-G"
      },
      "source": [
        ""
      ],
      "execution_count": null,
      "outputs": []
    },
    {
      "cell_type": "markdown",
      "metadata": {
        "id": "IF-AW4ub1O-G"
      },
      "source": [
        "### Métodos de Lista"
      ]
    },
    {
      "cell_type": "markdown",
      "metadata": {
        "id": "Cl1aEzsZ1O-G"
      },
      "source": [
        "| Método | Descripción\n",
        "|:---|:---| \n",
        "|list.append()|Añade un elemento al final de la lista|\n",
        "|list.clear()|Borra todos los elementos de la lista |\n",
        "|list.copy()|Devuelve una copia de la lista|\n",
        "|list.count()|Devuelve el nº de elementos de la lista especificando el valor|\n",
        "|list.extend()|Añade los elementos de una lista (o cualquier iterable) al final de la lista actual|\n",
        "|list.index()|Devuelve el índice del primer elemento de la lista con el valor específico |\n",
        "|list.insert()|Añade un elemento a la posición especificada |\n",
        "|list.pop()|Borra el elemento de la posición especificada |\n",
        "|list.remove()|Borra el elemento con el valor especificado |\n",
        "|list.reverse()|Invierte el orden de la lista|\n",
        "|list.sort()|Ordena la lista|"
      ]
    },
    {
      "cell_type": "markdown",
      "metadata": {
        "id": "2AJ7KEUJ1O-G"
      },
      "source": [
        "#### EJEMPLO: Longitud de la lista"
      ]
    },
    {
      "cell_type": "code",
      "metadata": {
        "id": "uaZ7InNp1O-G"
      },
      "source": [
        ""
      ],
      "execution_count": null,
      "outputs": []
    },
    {
      "cell_type": "code",
      "metadata": {
        "id": "v2BYZKZJ1O-G"
      },
      "source": [
        ""
      ],
      "execution_count": null,
      "outputs": []
    },
    {
      "cell_type": "code",
      "metadata": {
        "id": "RrUG7hNk1O-G"
      },
      "source": [
        ""
      ],
      "execution_count": null,
      "outputs": []
    },
    {
      "cell_type": "code",
      "metadata": {
        "id": "45RLnN4u1O-H"
      },
      "source": [
        ""
      ],
      "execution_count": null,
      "outputs": []
    },
    {
      "cell_type": "markdown",
      "metadata": {
        "id": "APJaTz3y1O-J"
      },
      "source": [
        "#### EJEMPLO: Añadir elementos en una lista"
      ]
    },
    {
      "cell_type": "code",
      "metadata": {
        "id": "INRQQmvR1O-J"
      },
      "source": [
        ""
      ],
      "execution_count": null,
      "outputs": []
    },
    {
      "cell_type": "code",
      "metadata": {
        "id": "FGg-XexQ1O-J"
      },
      "source": [
        ""
      ],
      "execution_count": null,
      "outputs": []
    },
    {
      "cell_type": "code",
      "metadata": {
        "id": "0hcLKy691O-J"
      },
      "source": [
        ""
      ],
      "execution_count": null,
      "outputs": []
    },
    {
      "cell_type": "code",
      "metadata": {
        "id": "NdkSAulW1O-J"
      },
      "source": [
        ""
      ],
      "execution_count": null,
      "outputs": []
    },
    {
      "cell_type": "markdown",
      "metadata": {
        "id": "nHTgRryN1O-J"
      },
      "source": [
        "#### EJEMPLO: Añadir elemento especificando posición"
      ]
    },
    {
      "cell_type": "code",
      "metadata": {
        "id": "Iwq2cme31O-K"
      },
      "source": [
        ""
      ],
      "execution_count": null,
      "outputs": []
    },
    {
      "cell_type": "code",
      "metadata": {
        "id": "jzOp6Zuy1O-K"
      },
      "source": [
        ""
      ],
      "execution_count": null,
      "outputs": []
    },
    {
      "cell_type": "code",
      "metadata": {
        "id": "qecZa-7S1O-K"
      },
      "source": [
        ""
      ],
      "execution_count": null,
      "outputs": []
    },
    {
      "cell_type": "code",
      "metadata": {
        "id": "W7XUex-21O-K"
      },
      "source": [
        ""
      ],
      "execution_count": null,
      "outputs": []
    },
    {
      "cell_type": "markdown",
      "metadata": {
        "id": "xJAAXMBk1O-K"
      },
      "source": [
        "#### EJEMPLO: Borrar elemento de lista, según nombre "
      ]
    },
    {
      "cell_type": "code",
      "metadata": {
        "id": "TrwbbsXa1O-K"
      },
      "source": [
        ""
      ],
      "execution_count": null,
      "outputs": []
    },
    {
      "cell_type": "code",
      "metadata": {
        "id": "7aK4i5SU1O-K"
      },
      "source": [
        ""
      ],
      "execution_count": null,
      "outputs": []
    },
    {
      "cell_type": "code",
      "metadata": {
        "id": "afmsoqBn1O-K"
      },
      "source": [
        ""
      ],
      "execution_count": null,
      "outputs": []
    },
    {
      "cell_type": "code",
      "metadata": {
        "id": "aIU_XUMP1O-K"
      },
      "source": [
        ""
      ],
      "execution_count": null,
      "outputs": []
    },
    {
      "cell_type": "markdown",
      "metadata": {
        "id": "6kmJCh0u1O-L"
      },
      "source": [
        "#### EJEMPLO: Borrar elemento de lista, según posición"
      ]
    },
    {
      "cell_type": "code",
      "metadata": {
        "id": "MyGDPPER1O-L"
      },
      "source": [
        ""
      ],
      "execution_count": null,
      "outputs": []
    },
    {
      "cell_type": "code",
      "metadata": {
        "id": "MwyFCV7y1O-L"
      },
      "source": [
        ""
      ],
      "execution_count": null,
      "outputs": []
    },
    {
      "cell_type": "code",
      "metadata": {
        "id": "1HhEtgMW1O-L"
      },
      "source": [
        ""
      ],
      "execution_count": null,
      "outputs": []
    },
    {
      "cell_type": "code",
      "metadata": {
        "id": "ngTG4Mee1O-L"
      },
      "source": [
        ""
      ],
      "execution_count": null,
      "outputs": []
    },
    {
      "cell_type": "code",
      "metadata": {
        "id": "kL08q6uG1O-L"
      },
      "source": [
        ""
      ],
      "execution_count": null,
      "outputs": []
    },
    {
      "cell_type": "markdown",
      "metadata": {
        "id": "ILjR-gga1O-L"
      },
      "source": [
        "#### EJEMPLO: Borra todos los elementos de la lista"
      ]
    },
    {
      "cell_type": "code",
      "metadata": {
        "id": "HewWSaI51O-L"
      },
      "source": [
        ""
      ],
      "execution_count": null,
      "outputs": []
    },
    {
      "cell_type": "code",
      "metadata": {
        "id": "b7CCoxwm1O-L"
      },
      "source": [
        ""
      ],
      "execution_count": null,
      "outputs": []
    },
    {
      "cell_type": "code",
      "metadata": {
        "id": "czGIIKBe1O-M"
      },
      "source": [
        ""
      ],
      "execution_count": null,
      "outputs": []
    },
    {
      "cell_type": "code",
      "metadata": {
        "id": "EkADVXMP1O-M"
      },
      "source": [
        ""
      ],
      "execution_count": null,
      "outputs": []
    },
    {
      "cell_type": "markdown",
      "metadata": {
        "id": "PeTIAZbb1O-M"
      },
      "source": [
        "#### EJEMPLO: Borra lista entera"
      ]
    },
    {
      "cell_type": "code",
      "metadata": {
        "id": "Ry-l2_fo1O-M"
      },
      "source": [
        ""
      ],
      "execution_count": null,
      "outputs": []
    },
    {
      "cell_type": "code",
      "metadata": {
        "id": "YKmjuVT91O-M"
      },
      "source": [
        ""
      ],
      "execution_count": null,
      "outputs": []
    },
    {
      "cell_type": "code",
      "metadata": {
        "id": "Dq7Rm-oo1O-M"
      },
      "source": [
        ""
      ],
      "execution_count": null,
      "outputs": []
    },
    {
      "cell_type": "code",
      "metadata": {
        "id": "_VFtJUt31O-M"
      },
      "source": [
        ""
      ],
      "execution_count": null,
      "outputs": []
    },
    {
      "cell_type": "code",
      "metadata": {
        "id": "e-LaI5m81O-M"
      },
      "source": [
        ""
      ],
      "execution_count": null,
      "outputs": []
    },
    {
      "cell_type": "markdown",
      "metadata": {
        "id": "-m2OgZw_1O-M"
      },
      "source": [
        "#### EJEMPLO: Copiar una lista\n",
        "\n",
        "Copiar una lista (lista_1) a otra nueva (lista_2)  no es tan sencillo como escribir:\n",
        "\n",
        "lista_2 = lista_1\n",
        "\n",
        "Ya que esto lo que genera es una asignación o **referencia** de la lista original (lista_1) a la nueva lista (lista_2), lo que implica que cualquier cambio que apliquemos a la lista copia se traducirá a la original lista. \n",
        "\n",
        "Así que para generar una **copia** independentiente a la lista original, usaremos el método **copy()**."
      ]
    },
    {
      "cell_type": "code",
      "metadata": {
        "ExecuteTime": {
          "end_time": "2020-02-07T07:29:56.869852Z",
          "start_time": "2020-02-07T07:29:56.864215Z"
        },
        "id": "Ep8iSuFW1O-M"
      },
      "source": [
        "nombres = ['Ana','Yolanda','Marcos','Cristina','Alberto']"
      ],
      "execution_count": null,
      "outputs": []
    },
    {
      "cell_type": "code",
      "metadata": {
        "ExecuteTime": {
          "end_time": "2020-02-07T07:30:25.009510Z",
          "start_time": "2020-02-07T07:30:25.000938Z"
        },
        "id": "N-yiRAGu1O-M"
      },
      "source": [
        "copia_nombres = nombres.copy()\n",
        "copia_nombres"
      ],
      "execution_count": null,
      "outputs": []
    },
    {
      "cell_type": "code",
      "metadata": {
        "id": "r0i9MrlM1O-N"
      },
      "source": [
        "copia_nombres.append('hola')\n",
        "copia_nombres"
      ],
      "execution_count": null,
      "outputs": []
    },
    {
      "cell_type": "code",
      "metadata": {
        "id": "j9U-8Ilx1O-N"
      },
      "source": [
        "nombres"
      ],
      "execution_count": null,
      "outputs": []
    },
    {
      "cell_type": "markdown",
      "metadata": {
        "id": "uwP6zSe51O-N"
      },
      "source": [
        "Alternativamente podemos usar el método **list()**:"
      ]
    },
    {
      "cell_type": "code",
      "metadata": {
        "ExecuteTime": {
          "end_time": "2020-02-07T07:31:02.552693Z",
          "start_time": "2020-02-07T07:31:02.540936Z"
        },
        "id": "yrYkxU1N1O-N"
      },
      "source": [
        "copia_nombres = list(nombres)\n",
        "copia_nombres"
      ],
      "execution_count": null,
      "outputs": []
    },
    {
      "cell_type": "markdown",
      "metadata": {
        "ExecuteTime": {
          "end_time": "2020-02-07T07:30:13.798894Z",
          "start_time": "2020-02-07T07:30:13.792211Z"
        },
        "id": "xvF29_Vx1O-N"
      },
      "source": [
        "#### EJEMPLO: Unificar (o JOIN) de dos listas mediante: +"
      ]
    },
    {
      "cell_type": "code",
      "metadata": {
        "id": "LycIU2IE1O-N"
      },
      "source": [
        ""
      ],
      "execution_count": null,
      "outputs": []
    },
    {
      "cell_type": "code",
      "metadata": {
        "id": "hU6DvV9l1O-N"
      },
      "source": [
        ""
      ],
      "execution_count": null,
      "outputs": []
    },
    {
      "cell_type": "code",
      "metadata": {
        "id": "h_dF29-31O-N"
      },
      "source": [
        ""
      ],
      "execution_count": null,
      "outputs": []
    },
    {
      "cell_type": "code",
      "metadata": {
        "id": "uct5S48b1O-N"
      },
      "source": [
        ""
      ],
      "execution_count": null,
      "outputs": []
    },
    {
      "cell_type": "markdown",
      "metadata": {
        "id": "L_ZF4wrZ1O-O"
      },
      "source": [
        "#### EJEMPLO: Unificar (o JOIN) de dos listas mediante: extend"
      ]
    },
    {
      "cell_type": "code",
      "metadata": {
        "id": "5wZnK2EI1O-O"
      },
      "source": [
        ""
      ],
      "execution_count": null,
      "outputs": []
    },
    {
      "cell_type": "code",
      "metadata": {
        "id": "zTq5yInO1O-O"
      },
      "source": [
        ""
      ],
      "execution_count": null,
      "outputs": []
    },
    {
      "cell_type": "code",
      "metadata": {
        "id": "v7JIRfCh1O-O"
      },
      "source": [
        ""
      ],
      "execution_count": null,
      "outputs": []
    },
    {
      "cell_type": "code",
      "metadata": {
        "id": "bs05__Zp1O-O"
      },
      "source": [
        ""
      ],
      "execution_count": null,
      "outputs": []
    },
    {
      "cell_type": "markdown",
      "metadata": {
        "id": "BXJxssqa1O-O"
      },
      "source": [
        "#### EJEMPLO: Crear una nueva lista: list()\n",
        "\n",
        "Hasta ahora hemos creado listas mediante el encuadre de elementos separados por comas y limitados por [].\n",
        "\n",
        "Una forma alternativa es mediante el método **list()**, y especificando los elementos que contendrá limitados por paréntesis adicionales"
      ]
    },
    {
      "cell_type": "code",
      "metadata": {
        "id": "Cj8OnN3-1O-O"
      },
      "source": [
        "x = list((1,2,3,4))"
      ],
      "execution_count": null,
      "outputs": []
    },
    {
      "cell_type": "code",
      "metadata": {
        "id": "1e-wINBU1O-O"
      },
      "source": [
        "x"
      ],
      "execution_count": null,
      "outputs": []
    },
    {
      "cell_type": "markdown",
      "metadata": {
        "id": "zt1wfboq1O-O"
      },
      "source": [
        "Que es totalmento idéntico a definirla según lo que habíamos visto hasta ahora:"
      ]
    },
    {
      "cell_type": "code",
      "metadata": {
        "ExecuteTime": {
          "end_time": "2020-02-07T07:39:24.953274Z",
          "start_time": "2020-02-07T07:39:24.946440Z"
        },
        "id": "E_wHXurJ1O-O"
      },
      "source": [
        "lista_compra = ['donuts','manzanas','detergente','patatas','cebollas','chicles']\n",
        "lista_compra"
      ],
      "execution_count": null,
      "outputs": []
    },
    {
      "cell_type": "markdown",
      "metadata": {
        "id": "JRVp8-HS1O-O"
      },
      "source": [
        "Ejercicio:\n",
        "- Crea una lista con el nombre de 4 personas.\n",
        "- Agrega una persona mas a la lista ya creada y que aparezca en el segundo lugar. \n",
        "- Genera una lista nueva con los últimos dos nombres de tu lista anterior y únela a tu lista anterior.\n",
        "- Utiliza una función para determinar cuantos elementos tienes en la lista\n",
        "- Borra el 3er elemento de la lista\n",
        "- Genera una lista de listas utilizando la lista anterior y donde las listas internas estan conformadas por las letras separadas que conforman cada nombre\n",
        "    \n",
        "    "
      ]
    },
    {
      "cell_type": "code",
      "metadata": {
        "id": "DCTIpP1V1O-P"
      },
      "source": [
        ""
      ],
      "execution_count": null,
      "outputs": []
    },
    {
      "cell_type": "code",
      "metadata": {
        "id": "YYGZyJiL1O-P"
      },
      "source": [
        ""
      ],
      "execution_count": null,
      "outputs": []
    },
    {
      "cell_type": "code",
      "metadata": {
        "id": "VpEKAhUj1O-P"
      },
      "source": [
        ""
      ],
      "execution_count": null,
      "outputs": []
    },
    {
      "cell_type": "code",
      "metadata": {
        "id": "8mW1SU1E1O-P"
      },
      "source": [
        ""
      ],
      "execution_count": null,
      "outputs": []
    },
    {
      "cell_type": "code",
      "metadata": {
        "id": "NzTDMHtc1O-P"
      },
      "source": [
        ""
      ],
      "execution_count": null,
      "outputs": []
    },
    {
      "cell_type": "code",
      "metadata": {
        "id": "e4Mwxwc21O-R"
      },
      "source": [
        ""
      ],
      "execution_count": null,
      "outputs": []
    },
    {
      "cell_type": "markdown",
      "metadata": {
        "id": "XYIKHuos1O-R"
      },
      "source": [
        "## Tuplas\n",
        "\n",
        "### Definición\n",
        "\n",
        "Las tuplas son listas inmutables, es decir; **no modificables**.\n",
        "\n",
        "Se escriben con paréntesis **()**, mientras que recordemos que las listas se escriben con corchetes [].\n",
        "\n",
        "#### EJEMPLO"
      ]
    },
    {
      "cell_type": "code",
      "metadata": {
        "ExecuteTime": {
          "end_time": "2020-02-07T07:44:16.994964Z",
          "start_time": "2020-02-07T07:44:16.985314Z"
        },
        "id": "A0bC0z-l1O-R"
      },
      "source": [
        "tupla_compra = ('donuts','manzanas','detergente')\n",
        "tupla_compra"
      ],
      "execution_count": null,
      "outputs": []
    },
    {
      "cell_type": "markdown",
      "metadata": {
        "id": "Qvkr5v-l1O-R"
      },
      "source": [
        "**IMPORTANTE** Para crear una tupla con un solo elemento hay que añadirle una coma al final"
      ]
    },
    {
      "cell_type": "code",
      "metadata": {
        "ExecuteTime": {
          "end_time": "2021-01-30T17:06:22.332822Z",
          "start_time": "2021-01-30T17:06:22.316190Z"
        },
        "id": "wW55uS_L1O-R"
      },
      "source": [
        "tupla_uno = (\"donuts\",)\n",
        "tupla_uno\n",
        "type(tupla_uno)"
      ],
      "execution_count": null,
      "outputs": []
    },
    {
      "cell_type": "code",
      "metadata": {
        "id": "b-KXD4jr1O-R"
      },
      "source": [
        "tupla_una = ('hola',)"
      ],
      "execution_count": null,
      "outputs": []
    },
    {
      "cell_type": "code",
      "metadata": {
        "id": "VEGodK481O-R"
      },
      "source": [
        "tupla_una"
      ],
      "execution_count": null,
      "outputs": []
    },
    {
      "cell_type": "code",
      "metadata": {
        "id": "lP9wEG901O-R"
      },
      "source": [
        "type(tupla_una)"
      ],
      "execution_count": null,
      "outputs": []
    },
    {
      "cell_type": "markdown",
      "metadata": {
        "id": "WiCPv3Ho1O-R"
      },
      "source": [
        "#### Acceder a elementos de una tupla\n",
        "\n",
        "Accederemos a elementos de una tupla de la misma forma que hacíamos en las listas, especificando el nº de índice del elemento; entre claudátors"
      ]
    },
    {
      "cell_type": "code",
      "metadata": {
        "ExecuteTime": {
          "end_time": "2020-02-07T07:45:53.411252Z",
          "start_time": "2020-02-07T07:45:53.400299Z"
        },
        "id": "dpG08lye1O-S"
      },
      "source": [
        "tupla_compra[0] #accedemos a índice 0 para sacar 1r elemento de la tupla"
      ],
      "execution_count": null,
      "outputs": []
    },
    {
      "cell_type": "markdown",
      "metadata": {
        "id": "i2Ja1UOt1O-S"
      },
      "source": [
        "#### Indexado negativo\n",
        "\n",
        "De la misma forma, para sacar elementos empezando desde le final de la tupla usaremos el indexado negatvo. "
      ]
    },
    {
      "cell_type": "code",
      "metadata": {
        "ExecuteTime": {
          "end_time": "2020-02-07T07:46:46.379206Z",
          "start_time": "2020-02-07T07:46:46.370596Z"
        },
        "id": "ukwQ77Yg1O-S"
      },
      "source": [
        "tupla_compra[-1] #sacamos el último elemento de la tupla"
      ],
      "execution_count": null,
      "outputs": []
    },
    {
      "cell_type": "markdown",
      "metadata": {
        "id": "fw2O0zcW1O-S"
      },
      "source": [
        "#### Rango de indexado\n",
        "\n",
        "Igualmente, para sacar un conjunto de elementos de una tupla, especificaremos el rango de posiciones que ocupan estos elementos en la tupla; siendo el primer índice la posición de inicio (incluida) y el último índice la posición de final + 1 (no se incluye)"
      ]
    },
    {
      "cell_type": "code",
      "metadata": {
        "ExecuteTime": {
          "end_time": "2020-02-07T07:48:38.633619Z",
          "start_time": "2020-02-07T07:48:38.627353Z"
        },
        "id": "HSADGJgU1O-S"
      },
      "source": [
        "tupla_compra[0:2] #sacamos primer elemento y segundo, que ocupan posición 0 y 1"
      ],
      "execution_count": null,
      "outputs": []
    },
    {
      "cell_type": "markdown",
      "metadata": {
        "id": "uOIb77YS1O-S"
      },
      "source": [
        "**Importante!** \n",
        "- Recuerda que el primer ítem en una lista o tupla ocupa el índice 0!\n",
        "- Recuerda que los rangos son cerrados por la izquierda y abiertos por la derecha!\n",
        "\n",
        "####  Rango de indexado negativo\n",
        "\n",
        "Para empezar la búsqeuda de elementos empezando por el final de la lista, usaremos índices negativos, siendo el primer índice el más anterior."
      ]
    },
    {
      "cell_type": "code",
      "metadata": {
        "ExecuteTime": {
          "end_time": "2020-02-07T07:51:29.209896Z",
          "start_time": "2020-02-07T07:51:29.202951Z"
        },
        "id": "dRd61Ncx1O-S"
      },
      "source": [
        "tupla_compra[-3:-1]"
      ],
      "execution_count": null,
      "outputs": []
    },
    {
      "cell_type": "markdown",
      "metadata": {
        "id": "greENFVY1O-S"
      },
      "source": [
        "### Funciones de Tuplas"
      ]
    },
    {
      "cell_type": "markdown",
      "metadata": {
        "id": "ZAygMvXV1O-S"
      },
      "source": [
        "| Función | Descripción\n",
        "|:---|:---|\n",
        "|len(tuple1)|Devuelve longitud de la tupla\n",
        "|max(tuple1)|Devuelve el elemento de máximo valor de la tupla|\n",
        "|min(tuple1)|Devuelve el elemento de mínimo valor de la tupla||\n",
        "|tuple(sec)|Convierte la lista en una tupla|"
      ]
    },
    {
      "cell_type": "markdown",
      "metadata": {
        "id": "TNJYSNNo1O-T"
      },
      "source": [
        "### Métodos de Tuplas"
      ]
    },
    {
      "cell_type": "markdown",
      "metadata": {
        "id": "0vLC_Pdu1O-T"
      },
      "source": [
        "| Método | Descripción\n",
        "|:---|:---| \n",
        "|len()\t|Devuelve el número de elementos que hay en la tupla|\n",
        "|count()\t|Devuelve el número de veces que un elemento aparece en la tupla|\n",
        "|index()\t|Busca en la tupla un elemento especificado y devuelve la posición que ocupa en la tupla|"
      ]
    },
    {
      "cell_type": "markdown",
      "metadata": {
        "id": "RIkP3POp1O-T"
      },
      "source": [
        "#### EJEMPLO: Longitud de la tupla"
      ]
    },
    {
      "cell_type": "code",
      "metadata": {
        "id": "OTtL5fke1O-T"
      },
      "source": [
        ""
      ],
      "execution_count": null,
      "outputs": []
    },
    {
      "cell_type": "code",
      "metadata": {
        "id": "tXXMhQlM1O-T"
      },
      "source": [
        ""
      ],
      "execution_count": null,
      "outputs": []
    },
    {
      "cell_type": "code",
      "metadata": {
        "id": "JzwB6Cqh1O-T"
      },
      "source": [
        ""
      ],
      "execution_count": null,
      "outputs": []
    },
    {
      "cell_type": "code",
      "metadata": {
        "id": "2bbyLMZU1O-U"
      },
      "source": [
        ""
      ],
      "execution_count": null,
      "outputs": []
    },
    {
      "cell_type": "markdown",
      "metadata": {
        "id": "WOhW9nVX1O-U"
      },
      "source": [
        "#### EJEMPLO: Añade elementos? NO!\n",
        "\n",
        "Al ser una tupla no modificable no podemos añadirle elementos!!"
      ]
    },
    {
      "cell_type": "code",
      "metadata": {
        "id": "Kx60FSVc1O-U"
      },
      "source": [
        ""
      ],
      "execution_count": null,
      "outputs": []
    },
    {
      "cell_type": "code",
      "metadata": {
        "id": "SiDFn5H_1O-U"
      },
      "source": [
        ""
      ],
      "execution_count": null,
      "outputs": []
    },
    {
      "cell_type": "code",
      "metadata": {
        "id": "FDBFLpto1O-U"
      },
      "source": [
        ""
      ],
      "execution_count": null,
      "outputs": []
    },
    {
      "cell_type": "markdown",
      "metadata": {
        "id": "ctq3ag2J1O-U"
      },
      "source": [
        "#### EJEMPLO: Elimina elementos? NO!\n",
        "\n",
        "No se puede modificar una tupla y por lo tanto no se pueden eliminar elementos!\n",
        "\n",
        "Sin embargo, sí se puede elimintar la tupla entera"
      ]
    },
    {
      "cell_type": "code",
      "metadata": {
        "id": "9Jn5qSYS1O-V"
      },
      "source": [
        ""
      ],
      "execution_count": null,
      "outputs": []
    },
    {
      "cell_type": "code",
      "metadata": {
        "id": "gyB5gyaw1O-V"
      },
      "source": [
        ""
      ],
      "execution_count": null,
      "outputs": []
    },
    {
      "cell_type": "code",
      "metadata": {
        "id": "EninVdcq1O-V"
      },
      "source": [
        ""
      ],
      "execution_count": null,
      "outputs": []
    },
    {
      "cell_type": "code",
      "metadata": {
        "id": "OKZ_cvfu1O-V"
      },
      "source": [
        ""
      ],
      "execution_count": null,
      "outputs": []
    },
    {
      "cell_type": "markdown",
      "metadata": {
        "id": "VZ_ryubY1O-V"
      },
      "source": [
        "#### EJEMPLO: Concatenar dos tuplas"
      ]
    },
    {
      "cell_type": "code",
      "metadata": {
        "id": "CAXac2FW1O-V"
      },
      "source": [
        ""
      ],
      "execution_count": null,
      "outputs": []
    },
    {
      "cell_type": "code",
      "metadata": {
        "id": "I1MrrKpG1O-V"
      },
      "source": [
        ""
      ],
      "execution_count": null,
      "outputs": []
    },
    {
      "cell_type": "code",
      "metadata": {
        "id": "CmTfpprJ1O-W"
      },
      "source": [
        ""
      ],
      "execution_count": null,
      "outputs": []
    },
    {
      "cell_type": "code",
      "metadata": {
        "id": "M1JBpkjK1O-W"
      },
      "source": [
        ""
      ],
      "execution_count": null,
      "outputs": []
    },
    {
      "cell_type": "markdown",
      "metadata": {
        "id": "rwaCg_rw1O-X"
      },
      "source": [
        "## Sets\n",
        "\n",
        "### Introducción\n",
        "\n",
        "Un set es una colección de datos sin ordenación ni indexación. En Python, los sets se escriben con {}\n",
        "\n",
        "Como los sets no son ordenados no puedes estar seguro con qué orden aparecen los elementos.\n",
        "\n",
        "#### EJEMPLO:"
      ]
    },
    {
      "cell_type": "code",
      "metadata": {
        "id": "3r8GTnpL1O-X",
        "outputId": "80313585-030c-40b1-af8f-b10e3007d810"
      },
      "source": [
        "mi_set = {\"primero\",\"segundo\",\"tercero\",\"cuarto\"}\n",
        "mi_set"
      ],
      "execution_count": null,
      "outputs": [
        {
          "data": {
            "text/plain": [
              "{'cuarto', 'primero', 'segundo', 'tercero'}"
            ]
          },
          "execution_count": 1,
          "metadata": {},
          "output_type": "execute_result"
        }
      ]
    },
    {
      "cell_type": "code",
      "metadata": {
        "id": "m1VXOQRM1O-X"
      },
      "source": [
        ""
      ],
      "execution_count": null,
      "outputs": []
    },
    {
      "cell_type": "code",
      "metadata": {
        "id": "eTMMbmcG1O-Y"
      },
      "source": [
        ""
      ],
      "execution_count": null,
      "outputs": []
    },
    {
      "cell_type": "code",
      "metadata": {
        "id": "YQvdwcOT1O-Y"
      },
      "source": [
        ""
      ],
      "execution_count": null,
      "outputs": []
    },
    {
      "cell_type": "markdown",
      "metadata": {
        "id": "JwY4n2CY1O-Y"
      },
      "source": [
        "#### No puedes acceder a elementos de un set\n",
        "\n",
        "Dado que un set no está ordenado ni tiene indexado, no se puede acceder a un elemento de un set mediante un índice!\n",
        "\n",
        "#### No puedes cambiar elementos de un set\n",
        "\n",
        "Una vez has creado un set, tampoco cambiar elementos; aunque sí podrás añadirle.\n",
        "\n",
        "### Métodos de set"
      ]
    },
    {
      "cell_type": "markdown",
      "metadata": {
        "id": "OvBeyOB31O-Y"
      },
      "source": [
        "| Método | Descripción\n",
        "|:---|:---| \n",
        "|add()\t| Añade un elemento al set |\n",
        "|clear()\t| Borra todos los elementos de un set |\n",
        "|copy()|\tDevuelve una copia del set|\n",
        "|difference()\t| Devuelve un set que contiene la diferencia entre dos o más sets|\n",
        "|difference_update()|\tBorra los elementos en el set que también aparecen en otro set especificado |\n",
        "|discard()\t|Borra el ítem especificado |\n",
        "|intersection()\t|Devuelve un set que es la intersección de dos sets|\n",
        "|intersection_update()|\tBorra los elementos en el set que no aparecen en otro/s set/s especificados|\n",
        "|isdisjoint()|\tDevuelve si dos sets tienen una intersección o no |\n",
        "|issubset()|\tDevuelve si otro set contiene al set especificado o no |\n",
        "|issuperset()|\tDevuelve si el set contiene a otro set o no |\n",
        "|pop()|\tBorra un elemento del set |\n",
        "|remove()|\tBorra el elemento especificado |\n",
        "|symmetric_difference()|\tDevuelve un set con la diferencia simétrica de dos sets|\n",
        "|symmetric_difference_update()|\tInserta la diferencia simétrica de un set con otro |\n",
        "|union()|\tDevuelve un set que contiene la union de sets|\n",
        "|update()|\tActualiza el set con la union del set con otros sets|"
      ]
    },
    {
      "cell_type": "markdown",
      "metadata": {
        "id": "TSUNoHFY1O-Y"
      },
      "source": [
        "#### EJEMPLO: Añadir un elemento - add()\n",
        "\n",
        "Para añadir un elemento a un set usamos el método **add()**."
      ]
    },
    {
      "cell_type": "code",
      "metadata": {
        "id": "HVD0s2yq1O-Y"
      },
      "source": [
        ""
      ],
      "execution_count": null,
      "outputs": []
    },
    {
      "cell_type": "code",
      "metadata": {
        "id": "Wf42fXlT1O-Y"
      },
      "source": [
        ""
      ],
      "execution_count": null,
      "outputs": []
    },
    {
      "cell_type": "code",
      "metadata": {
        "id": "vZtQjum-1O-Y"
      },
      "source": [
        ""
      ],
      "execution_count": null,
      "outputs": []
    },
    {
      "cell_type": "code",
      "metadata": {
        "id": "DcwDJL3S1O-Y"
      },
      "source": [
        ""
      ],
      "execution_count": null,
      "outputs": []
    },
    {
      "cell_type": "markdown",
      "metadata": {
        "id": "mzM4kjMl1O-Y"
      },
      "source": [
        "Fijaros que el set, al no tener orden, el elemento nuevo no va al final de la cadena!\n",
        "\n",
        "#### EJEMPLO: Añadir varios elementos - update()\n",
        "\n",
        "Para añadir varios elementos en un set usamos el método **update()**, y los elementos a añadir los contenemos como una lista, es decir entre claudátors []."
      ]
    },
    {
      "cell_type": "code",
      "metadata": {
        "id": "NOlAgvHF1O-Z"
      },
      "source": [
        ""
      ],
      "execution_count": null,
      "outputs": []
    },
    {
      "cell_type": "code",
      "metadata": {
        "id": "gRoVwk7m1O-Z"
      },
      "source": [
        ""
      ],
      "execution_count": null,
      "outputs": []
    },
    {
      "cell_type": "code",
      "metadata": {
        "id": "v1zVkUXY1O-Z"
      },
      "source": [
        ""
      ],
      "execution_count": null,
      "outputs": []
    },
    {
      "cell_type": "code",
      "metadata": {
        "id": "LI50yxhr1O-Z"
      },
      "source": [
        ""
      ],
      "execution_count": null,
      "outputs": []
    },
    {
      "cell_type": "code",
      "metadata": {
        "id": "IRjlBtUx1O-Z"
      },
      "source": [
        ""
      ],
      "execution_count": null,
      "outputs": []
    },
    {
      "cell_type": "markdown",
      "metadata": {
        "id": "sSV74hWM1O-Z"
      },
      "source": [
        "#### EJEMPLO: Longitud de un set - len()\n",
        "\n",
        "Para determinar cuántos elementos contiene un set, usamos el método **len()**"
      ]
    },
    {
      "cell_type": "code",
      "metadata": {
        "id": "FeL-GDd91O-Z"
      },
      "source": [
        ""
      ],
      "execution_count": null,
      "outputs": []
    },
    {
      "cell_type": "code",
      "metadata": {
        "id": "Suie8NXR1O-Z"
      },
      "source": [
        ""
      ],
      "execution_count": null,
      "outputs": []
    },
    {
      "cell_type": "code",
      "metadata": {
        "id": "PfXSdBUH1O-Z"
      },
      "source": [
        ""
      ],
      "execution_count": null,
      "outputs": []
    },
    {
      "cell_type": "code",
      "metadata": {
        "id": "u4vPzCoC1O-Z"
      },
      "source": [
        ""
      ],
      "execution_count": null,
      "outputs": []
    },
    {
      "cell_type": "markdown",
      "metadata": {
        "id": "ibRcdoo21O-Z"
      },
      "source": [
        "#### EJEMPLO: Borrar un elemento determinado - remove() o discard()"
      ]
    },
    {
      "cell_type": "code",
      "metadata": {
        "id": "sOvrShZQ1O-Z"
      },
      "source": [
        ""
      ],
      "execution_count": null,
      "outputs": []
    },
    {
      "cell_type": "code",
      "metadata": {
        "id": "dQa1crZ71O-Z"
      },
      "source": [
        ""
      ],
      "execution_count": null,
      "outputs": []
    },
    {
      "cell_type": "code",
      "metadata": {
        "id": "tEw5SC--1O-a"
      },
      "source": [
        ""
      ],
      "execution_count": null,
      "outputs": []
    },
    {
      "cell_type": "code",
      "metadata": {
        "id": "mbDuv3461O-a"
      },
      "source": [
        ""
      ],
      "execution_count": null,
      "outputs": []
    },
    {
      "cell_type": "markdown",
      "metadata": {
        "id": "d4OHImm-1O-a"
      },
      "source": [
        "**Importante!** Si quisiéramos eliminar un elemento del set que no está contenido en el set, **nos saltaría un error al aplicar el remove()**"
      ]
    },
    {
      "cell_type": "code",
      "metadata": {
        "id": "mTGx2POs1O-a"
      },
      "source": [
        "set_nombres.remove('Add')"
      ],
      "execution_count": null,
      "outputs": []
    },
    {
      "cell_type": "code",
      "metadata": {
        "id": "FD6AXJnB1O-a"
      },
      "source": [
        "set_nombres.remove('Marcos')"
      ],
      "execution_count": null,
      "outputs": []
    },
    {
      "cell_type": "code",
      "metadata": {
        "id": "vzl5D2ca1O-a"
      },
      "source": [
        "set_nombres"
      ],
      "execution_count": null,
      "outputs": []
    },
    {
      "cell_type": "code",
      "metadata": {
        "id": "Uhd_1Q4N1O-a"
      },
      "source": [
        ""
      ],
      "execution_count": null,
      "outputs": []
    },
    {
      "cell_type": "markdown",
      "metadata": {
        "id": "fFxozkgD1O-a"
      },
      "source": [
        "**Importante!** Si quisiéramos eliminar un elemento del set que no está contenido en el set, **NO nos saltaría un error al aplicar el discard()**\n",
        "\n",
        "#### EJEMPLO: Borrar último elemento del set- pop()\n",
        "\n",
        "Si queremos borrar el primer elemento del set usaremos el método **pop()**. Sin embargo, como los sets no son ordenados, no sabremos qué elemento vamos a borrar. "
      ]
    },
    {
      "cell_type": "code",
      "metadata": {
        "id": "Que2Ac_J1O-a"
      },
      "source": [
        ""
      ],
      "execution_count": null,
      "outputs": []
    },
    {
      "cell_type": "code",
      "metadata": {
        "id": "JVYQvbQ61O-a"
      },
      "source": [
        ""
      ],
      "execution_count": null,
      "outputs": []
    },
    {
      "cell_type": "code",
      "metadata": {
        "id": "4sW_6ogh1O-a"
      },
      "source": [
        ""
      ],
      "execution_count": null,
      "outputs": []
    },
    {
      "cell_type": "code",
      "metadata": {
        "id": "5sSAmi301O-a"
      },
      "source": [
        ""
      ],
      "execution_count": null,
      "outputs": []
    },
    {
      "cell_type": "markdown",
      "metadata": {
        "id": "PJGyLAc_1O-b"
      },
      "source": [
        "#### EJEMPLO: Vaciar un set - clear()\n",
        "\n",
        "El método **clear()** vacía el set de todos sus elementos"
      ]
    },
    {
      "cell_type": "code",
      "metadata": {
        "id": "cn-bMQb41O-b"
      },
      "source": [
        ""
      ],
      "execution_count": null,
      "outputs": []
    },
    {
      "cell_type": "code",
      "metadata": {
        "id": "0OyHJlpc1O-b"
      },
      "source": [
        ""
      ],
      "execution_count": null,
      "outputs": []
    },
    {
      "cell_type": "code",
      "metadata": {
        "id": "ddlu9ncR1O-b"
      },
      "source": [
        ""
      ],
      "execution_count": null,
      "outputs": []
    },
    {
      "cell_type": "code",
      "metadata": {
        "id": "1goPrSuO1O-b"
      },
      "source": [
        ""
      ],
      "execution_count": null,
      "outputs": []
    },
    {
      "cell_type": "markdown",
      "metadata": {
        "id": "fNn0zTzo1O-b"
      },
      "source": [
        "#### EJEMPLO: Eliminar un set - del()\n",
        "\n",
        "Finamente, el método **del()** borra un set completamente."
      ]
    },
    {
      "cell_type": "code",
      "metadata": {
        "id": "wMe19yWj1O-b"
      },
      "source": [
        ""
      ],
      "execution_count": null,
      "outputs": []
    },
    {
      "cell_type": "code",
      "metadata": {
        "id": "RGzOqcs21O-b"
      },
      "source": [
        ""
      ],
      "execution_count": null,
      "outputs": []
    },
    {
      "cell_type": "code",
      "metadata": {
        "id": "hyHc9yK81O-b"
      },
      "source": [
        ""
      ],
      "execution_count": null,
      "outputs": []
    },
    {
      "cell_type": "markdown",
      "metadata": {
        "id": "QqfSYw6b1O-b"
      },
      "source": [
        "#### EJEMPLO: Concatenar o Join de sets- union() y update()\n",
        "\n",
        "Existen varias manera de unir dos o más sets en Python.\n",
        "\n",
        "El método **union()** devuelve un **nuevo set** que contiene los elementos de ambos sets"
      ]
    },
    {
      "cell_type": "code",
      "metadata": {
        "id": "YD-Sr7oB1O-b"
      },
      "source": [
        "set_nombres = {\"Ana\",\"Yolanda\",\"Alberto\",\"Ricardo\",\"Marcos\"}"
      ],
      "execution_count": null,
      "outputs": []
    },
    {
      "cell_type": "code",
      "metadata": {
        "id": "lpMKGroR1O-c"
      },
      "source": [
        ""
      ],
      "execution_count": null,
      "outputs": []
    },
    {
      "cell_type": "code",
      "metadata": {
        "id": "hICM3ZsT1O-c"
      },
      "source": [
        ""
      ],
      "execution_count": null,
      "outputs": []
    },
    {
      "cell_type": "code",
      "metadata": {
        "id": "E-MunICg1O-c"
      },
      "source": [
        ""
      ],
      "execution_count": null,
      "outputs": []
    },
    {
      "cell_type": "markdown",
      "metadata": {
        "id": "AQX-itxw1O-c"
      },
      "source": [
        "Mientras que el método **update()** inserta todos los elementos de un set a un **set ya existente**"
      ]
    },
    {
      "cell_type": "code",
      "metadata": {
        "id": "BHlAoA1F1O-c"
      },
      "source": [
        "set_1 = {'a', 'b', 'c', 'd'}\n",
        "set_2 = {1,2,3}"
      ],
      "execution_count": null,
      "outputs": []
    },
    {
      "cell_type": "code",
      "metadata": {
        "id": "E3XO7dAw1O-c"
      },
      "source": [
        ""
      ],
      "execution_count": null,
      "outputs": []
    },
    {
      "cell_type": "code",
      "metadata": {
        "id": "kkHzW1Fg1O-c"
      },
      "source": [
        ""
      ],
      "execution_count": null,
      "outputs": []
    },
    {
      "cell_type": "code",
      "metadata": {
        "id": "9EJOKOE21O-c"
      },
      "source": [
        ""
      ],
      "execution_count": null,
      "outputs": []
    },
    {
      "cell_type": "markdown",
      "metadata": {
        "id": "C8204tqk1O-c"
      },
      "source": [
        "**Importante!** Tanto el método union() como el update() excluyen elementos duplicados!"
      ]
    },
    {
      "cell_type": "code",
      "metadata": {
        "id": "XreiTfaD1O-c"
      },
      "source": [
        "set1 = {'a', 'b', 'c'}\n",
        "set2 = {'b', 'c', 'd', 'e'}"
      ],
      "execution_count": null,
      "outputs": []
    },
    {
      "cell_type": "code",
      "metadata": {
        "id": "sL-9z6rf1O-c"
      },
      "source": [
        ""
      ],
      "execution_count": null,
      "outputs": []
    },
    {
      "cell_type": "code",
      "metadata": {
        "id": "wcLUMbdE1O-c"
      },
      "source": [
        ""
      ],
      "execution_count": null,
      "outputs": []
    },
    {
      "cell_type": "code",
      "metadata": {
        "id": "rndYwU3X1O-c"
      },
      "source": [
        ""
      ],
      "execution_count": null,
      "outputs": []
    },
    {
      "cell_type": "markdown",
      "metadata": {
        "id": "PQyp9ekX1O-c"
      },
      "source": [
        "## Diccionarios\n",
        "\n",
        "### Introducción\n",
        "\n",
        "Un diccionario es una colección de datos **no ordenada**, **modificable** e **indexada**. \n",
        "\n",
        "En Python, los diccionarios se escribem con {} y tienen dos tipos de elementos:\n",
        "- etiquetas (*keys* o índices con nombre)\n",
        "- valores\n",
        "\n",
        "Los valores de los diccionarios no tienen restricciones. \n",
        "\n",
        "**Importante!** Las etiquetas o *keys* de los diccionarios sí tienen restricciones: \n",
        "\n",
        "- No se permite más de un valor por key. Lo que significa que **no pueden existir keys duplicadas!!** Si se repitiera una key, prevalece la última definida! \n",
        "\n",
        "\n",
        "##### EJEMPLO: "
      ]
    },
    {
      "cell_type": "code",
      "metadata": {
        "ExecuteTime": {
          "end_time": "2021-01-30T17:27:11.700971Z",
          "start_time": "2021-01-30T17:27:11.694016Z"
        },
        "id": "Pqjc28s41O-d"
      },
      "source": [
        "mi_diccionario = {\n",
        "    \n",
        "    'marca' : 'Ford',\n",
        "    'modelo' : 'Mustang',\n",
        "    'año' : 1962\n",
        "}"
      ],
      "execution_count": null,
      "outputs": []
    },
    {
      "cell_type": "code",
      "metadata": {
        "id": "O0tzngnw1O-d",
        "colab": {
          "base_uri": "https://localhost:8080/"
        },
        "outputId": "119744c7-88ff-4716-dd81-5875fc0940ec"
      },
      "source": [
        "type(mi_diccionario)"
      ],
      "execution_count": null,
      "outputs": [
        {
          "output_type": "execute_result",
          "data": {
            "text/plain": [
              "dict"
            ]
          },
          "metadata": {},
          "execution_count": 2
        }
      ]
    },
    {
      "cell_type": "code",
      "metadata": {
        "id": "5MucgmOR1O-d"
      },
      "source": [
        ""
      ],
      "execution_count": null,
      "outputs": []
    },
    {
      "cell_type": "markdown",
      "metadata": {
        "id": "wAsZywR91O-d"
      },
      "source": [
        "Es decir, \n",
        "- las etiquetas mi diccionario (o *keys*) son: \"marca\", \"Modelo\" y \"año\"\n",
        "- los valores asociados a cada clave del diccionario son: \"Ford\",\"Mustang\" y 1962\n",
        "\n",
        "#### Acceder a elementos de un diccionario\n",
        "\n",
        "Se puede acceder a un elemento de un diccionario **mediante la referencia al nombre de su clave o etiqueta** dentro de corchetes []"
      ]
    },
    {
      "cell_type": "code",
      "metadata": {
        "ExecuteTime": {
          "end_time": "2020-02-08T09:14:36.500650Z",
          "start_time": "2020-02-08T09:14:36.493200Z"
        },
        "id": "-vgEtJcK1O-d"
      },
      "source": [
        ""
      ],
      "execution_count": null,
      "outputs": []
    },
    {
      "cell_type": "code",
      "metadata": {
        "id": "992wrC_X1O-d"
      },
      "source": [
        ""
      ],
      "execution_count": null,
      "outputs": []
    },
    {
      "cell_type": "code",
      "metadata": {
        "id": "ibYZo2FG1O-d"
      },
      "source": [
        ""
      ],
      "execution_count": null,
      "outputs": []
    },
    {
      "cell_type": "code",
      "metadata": {
        "id": "Xl4eyTW01O-d"
      },
      "source": [
        ""
      ],
      "execution_count": null,
      "outputs": []
    },
    {
      "cell_type": "code",
      "metadata": {
        "id": "i13T8xjX1O-d"
      },
      "source": [
        ""
      ],
      "execution_count": null,
      "outputs": []
    },
    {
      "cell_type": "code",
      "metadata": {
        "id": "g22KApAI1O-d"
      },
      "source": [
        ""
      ],
      "execution_count": null,
      "outputs": []
    },
    {
      "cell_type": "markdown",
      "metadata": {
        "id": "JqzH0S7H1O-d"
      },
      "source": [
        "#### Cambiar valor de un elemento del diccionario\n",
        "\n",
        "Si accedo a la posición de una determinada etiqueta del diccionario y le asigno un nuevo valor, he cambiado el valor de ese elemento al que he accedido\n",
        "\n",
        "#### EJEMPLO:"
      ]
    },
    {
      "cell_type": "code",
      "metadata": {
        "id": "IgXEmT7M1O-d"
      },
      "source": [
        ""
      ],
      "execution_count": null,
      "outputs": []
    },
    {
      "cell_type": "code",
      "metadata": {
        "id": "J_DirJMr1O-e"
      },
      "source": [
        ""
      ],
      "execution_count": null,
      "outputs": []
    },
    {
      "cell_type": "code",
      "metadata": {
        "id": "5AQF-XSy1O-e"
      },
      "source": [
        ""
      ],
      "execution_count": null,
      "outputs": []
    },
    {
      "cell_type": "markdown",
      "metadata": {
        "id": "Z0_H517C1O-e"
      },
      "source": [
        "**Accediendo al diccionario, también se puede agregar una nueva etiqueta : valor**"
      ]
    },
    {
      "cell_type": "code",
      "metadata": {
        "id": "om8PCRfc1O-e"
      },
      "source": [
        ""
      ],
      "execution_count": null,
      "outputs": []
    },
    {
      "cell_type": "code",
      "metadata": {
        "id": "oQ6Wvx951O-e"
      },
      "source": [
        ""
      ],
      "execution_count": null,
      "outputs": []
    },
    {
      "cell_type": "code",
      "metadata": {
        "id": "C11bEI8F1O-e"
      },
      "source": [
        ""
      ],
      "execution_count": null,
      "outputs": []
    },
    {
      "cell_type": "code",
      "metadata": {
        "id": "94pLo-tX1O-e"
      },
      "source": [
        ""
      ],
      "execution_count": null,
      "outputs": []
    },
    {
      "cell_type": "markdown",
      "metadata": {
        "id": "-yvsLNpJ1O-e"
      },
      "source": [
        "### Funciones de diccionario"
      ]
    },
    {
      "cell_type": "markdown",
      "metadata": {
        "id": "gEMAyf4j1O-e"
      },
      "source": [
        "| Función | Descripción\n",
        "|:---|:---|\n",
        "|len(dict)|Devuelve longitud del diccionario, es decir nº elementos que tiene\n",
        "|str(dict1)|Devuelve una versión imprimible del diccionario|\n",
        "|type(dict1)|Devuelve el tipo del diccionario|"
      ]
    },
    {
      "cell_type": "markdown",
      "metadata": {
        "id": "YI9dcADv1O-e"
      },
      "source": [
        "### Métodos de un diccionario"
      ]
    },
    {
      "cell_type": "markdown",
      "metadata": {
        "id": "4EU8LL0b1O-e"
      },
      "source": [
        "| Método | Descripción\n",
        "|:---|:---| \n",
        "|dict.clear()|\tBorra todos los elementos de un diccionario|\n",
        "|dict.copy()|Devuelve una copia del diccionario|\n",
        "|dict.fromkeys()|Devuelve un diccionario con las etiquetas y valores deseados|\n",
        "|dict.get()|\tDevuelve el valor de una etiqueta específica |\n",
        "|dict.items()|\tDevuelve una **lista** que contiene una **tupla** para cada pareja de etiqueta-valor |\n",
        "|dict.keys()|Devuelve una **lista** que contiene las **etiquetas** del diccionario|\n",
        "|dict.pop()|\tBorra el elemento según la etiqueta especificada |\n",
        "|dict.popitem()|\tBorra la última pareja etiqueta-valor insertada |\n",
        "|dict.setdefault()|\tDevuelve el valor de la etiqueta especificada. Si la etiqueta no existe, al insertar la etiqueta especifica el valor que almacenará|\n",
        "|dict.update()|\tActualiza el diccionario con la pareja etiqueta-valor especificada|\n",
        "|dict.values()|\tDevuelve una **lista** de todos los **valores** del diccionarion|"
      ]
    },
    {
      "cell_type": "markdown",
      "metadata": {
        "ExecuteTime": {
          "end_time": "2021-02-07T10:58:35.426093Z",
          "start_time": "2021-02-07T10:58:35.423077Z"
        },
        "id": "9tB9eVS-1O-f"
      },
      "source": [
        "#### EJEMPLO: .values, .keys, .items"
      ]
    },
    {
      "cell_type": "code",
      "metadata": {
        "id": "A_EgMDM-1O-f"
      },
      "source": [
        ""
      ],
      "execution_count": null,
      "outputs": []
    },
    {
      "cell_type": "code",
      "metadata": {
        "id": "ZunVAf3J1O-f"
      },
      "source": [
        ""
      ],
      "execution_count": null,
      "outputs": []
    },
    {
      "cell_type": "code",
      "metadata": {
        "id": "cTcenSRV1O-f"
      },
      "source": [
        ""
      ],
      "execution_count": null,
      "outputs": []
    },
    {
      "cell_type": "code",
      "metadata": {
        "id": "SvfKRR3c1O-f"
      },
      "source": [
        ""
      ],
      "execution_count": null,
      "outputs": []
    },
    {
      "cell_type": "code",
      "metadata": {
        "id": "os1BWCgE1O-f"
      },
      "source": [
        ""
      ],
      "execution_count": null,
      "outputs": []
    },
    {
      "cell_type": "markdown",
      "metadata": {
        "id": "uLVHzD0j1O-f"
      },
      "source": [
        "#### EJEMPLO: Longitud de un diccionario - len()"
      ]
    },
    {
      "cell_type": "code",
      "metadata": {
        "id": "jpeLgMuy1O-f"
      },
      "source": [
        ""
      ],
      "execution_count": null,
      "outputs": []
    },
    {
      "cell_type": "code",
      "metadata": {
        "id": "6pJC0chh1O-f"
      },
      "source": [
        ""
      ],
      "execution_count": null,
      "outputs": []
    },
    {
      "cell_type": "code",
      "metadata": {
        "id": "P6p9M1ql1O-f"
      },
      "source": [
        ""
      ],
      "execution_count": null,
      "outputs": []
    },
    {
      "cell_type": "markdown",
      "metadata": {
        "id": "Pm2YI4oV1O-f"
      },
      "source": [
        "#### EJEMPLO: Borrar elementos - pop()"
      ]
    },
    {
      "cell_type": "code",
      "metadata": {
        "id": "hUTM93II1O-g"
      },
      "source": [
        ""
      ],
      "execution_count": null,
      "outputs": []
    },
    {
      "cell_type": "code",
      "metadata": {
        "id": "9ngSeWSx1O-g"
      },
      "source": [
        ""
      ],
      "execution_count": null,
      "outputs": []
    },
    {
      "cell_type": "code",
      "metadata": {
        "id": "bV2Xwur01O-g"
      },
      "source": [
        ""
      ],
      "execution_count": null,
      "outputs": []
    },
    {
      "cell_type": "code",
      "metadata": {
        "id": "Oclv4Cxa1O-g"
      },
      "source": [
        ""
      ],
      "execution_count": null,
      "outputs": []
    },
    {
      "cell_type": "markdown",
      "metadata": {
        "id": "Zs_IVDMG1O-g"
      },
      "source": [
        "#### EJEMPLO: Borrar último elemento insertado - popitem()"
      ]
    },
    {
      "cell_type": "code",
      "metadata": {
        "id": "l5FrYXat1O-g"
      },
      "source": [
        ""
      ],
      "execution_count": null,
      "outputs": []
    },
    {
      "cell_type": "code",
      "metadata": {
        "id": "VNaY6ELU1O-g"
      },
      "source": [
        ""
      ],
      "execution_count": null,
      "outputs": []
    },
    {
      "cell_type": "code",
      "metadata": {
        "id": "wyGfRguI1O-g"
      },
      "source": [
        ""
      ],
      "execution_count": null,
      "outputs": []
    },
    {
      "cell_type": "code",
      "metadata": {
        "id": "a7D0pZpQ1O-g"
      },
      "source": [
        ""
      ],
      "execution_count": null,
      "outputs": []
    },
    {
      "cell_type": "markdown",
      "metadata": {
        "id": "ZvW8yExM1O-g"
      },
      "source": [
        "#### EJEMPLO: Borrar elementos mediante etiqueta- del()"
      ]
    },
    {
      "cell_type": "code",
      "metadata": {
        "id": "4rZ3Z6Aj1O-g"
      },
      "source": [
        ""
      ],
      "execution_count": null,
      "outputs": []
    },
    {
      "cell_type": "code",
      "metadata": {
        "id": "vm-wJPOE1O-g"
      },
      "source": [
        ""
      ],
      "execution_count": null,
      "outputs": []
    },
    {
      "cell_type": "code",
      "metadata": {
        "id": "teFqnzkC1O-h"
      },
      "source": [
        ""
      ],
      "execution_count": null,
      "outputs": []
    },
    {
      "cell_type": "code",
      "metadata": {
        "id": "R-A5fvVL1O-h"
      },
      "source": [
        ""
      ],
      "execution_count": null,
      "outputs": []
    },
    {
      "cell_type": "markdown",
      "metadata": {
        "id": "O6ziN3sg1O-h"
      },
      "source": [
        "#### EJEMPLO: Borrar diccionario- del()"
      ]
    },
    {
      "cell_type": "code",
      "metadata": {
        "id": "JLde7SCa1O-h"
      },
      "source": [
        ""
      ],
      "execution_count": null,
      "outputs": []
    },
    {
      "cell_type": "code",
      "metadata": {
        "id": "0hZleaGI1O-h"
      },
      "source": [
        ""
      ],
      "execution_count": null,
      "outputs": []
    },
    {
      "cell_type": "code",
      "metadata": {
        "id": "wm_-0l6j1O-h"
      },
      "source": [
        ""
      ],
      "execution_count": null,
      "outputs": []
    },
    {
      "cell_type": "code",
      "metadata": {
        "id": "q8gr9NkF1O-h"
      },
      "source": [
        ""
      ],
      "execution_count": null,
      "outputs": []
    },
    {
      "cell_type": "markdown",
      "metadata": {
        "id": "-8tSp_FD1O-h"
      },
      "source": [
        "#### EJEMPLO: Borrar todos los elementos - clear()"
      ]
    },
    {
      "cell_type": "code",
      "metadata": {
        "id": "ZaLOzcej1O-h"
      },
      "source": [
        ""
      ],
      "execution_count": null,
      "outputs": []
    },
    {
      "cell_type": "code",
      "metadata": {
        "id": "LQzj6E9w1O-h"
      },
      "source": [
        ""
      ],
      "execution_count": null,
      "outputs": []
    },
    {
      "cell_type": "code",
      "metadata": {
        "id": "acoe6Ei41O-h"
      },
      "source": [
        ""
      ],
      "execution_count": null,
      "outputs": []
    },
    {
      "cell_type": "code",
      "metadata": {
        "id": "T9tMBbXG1O-h"
      },
      "source": [
        ""
      ],
      "execution_count": null,
      "outputs": []
    },
    {
      "cell_type": "markdown",
      "metadata": {
        "id": "jaTt_QPe1O-h"
      },
      "source": [
        "#### EJEMPLO: Copiar diccionario - copy() o dict()\n",
        "\n",
        "No se puede copiar un diccionario simplemente mediante la asignación a otro (p.e. dict2 = dict1), por que esto lo que hace es vincular un elemento a otro! Y por lo tanto, al modificar el diccionario copiado también modificaríamos el original.\n",
        "\n",
        "Para copiar un diccionario, entonces usaremos el método **copy()**. Veámoslo"
      ]
    },
    {
      "cell_type": "code",
      "metadata": {
        "ExecuteTime": {
          "end_time": "2020-02-08T09:29:38.245463Z",
          "start_time": "2020-02-08T09:29:38.241133Z"
        },
        "id": "cgIN8Rjm1O-h"
      },
      "source": [
        "mi_diccionario = {\n",
        "    \"marca\":\"Ford\",\n",
        "    \"modelo\":\"Mustang\",\n",
        "    \"año\": 1962\n",
        "}"
      ],
      "execution_count": null,
      "outputs": []
    },
    {
      "cell_type": "code",
      "metadata": {
        "ExecuteTime": {
          "end_time": "2020-02-08T09:29:40.745866Z",
          "start_time": "2020-02-08T09:29:40.739474Z"
        },
        "id": "pyyuU5he1O-i",
        "colab": {
          "base_uri": "https://localhost:8080/"
        },
        "outputId": "98d0cfdd-e741-4afc-89c0-7e84d7a2318e"
      },
      "source": [
        "mi_diccionario_2 = mi_diccionario.copy()\n",
        "mi_diccionario_2"
      ],
      "execution_count": null,
      "outputs": [
        {
          "output_type": "execute_result",
          "data": {
            "text/plain": [
              "{'año': 1962, 'marca': 'Ford', 'modelo': 'Mustang'}"
            ]
          },
          "metadata": {},
          "execution_count": 4
        }
      ]
    },
    {
      "cell_type": "markdown",
      "metadata": {
        "id": "24Ike8tZ1O-i"
      },
      "source": [
        "### Diccionarios Anidados\n",
        "\n",
        "Un diccionario puede contener muchos diccionarios, o lo que llamamos diccionarios anidados\n",
        "\n",
        "#### EJEMPLO:"
      ]
    },
    {
      "cell_type": "code",
      "metadata": {
        "ExecuteTime": {
          "end_time": "2020-02-08T09:31:06.641464Z",
          "start_time": "2020-02-08T09:31:06.636284Z"
        },
        "id": "_DrrcvIl1O-i"
      },
      "source": [
        "Hijos = {\n",
        "  \"Hijo1\" : {\n",
        "    \"nombre\" : \"Email\",\n",
        "    \"año\" : 2004\n",
        "  },\n",
        "  \"Hijo2\" : {\n",
        "    \"nombre\" : \"Tobias\",\n",
        "    \"año\" : 2007\n",
        "  },\n",
        "  \"Hijo3\" : {\n",
        "    \"nombre\" : \"Linus\",\n",
        "    \"año\" : 2011\n",
        "  }\n",
        "}"
      ],
      "execution_count": null,
      "outputs": []
    },
    {
      "cell_type": "code",
      "metadata": {
        "ExecuteTime": {
          "end_time": "2020-02-08T09:31:09.842775Z",
          "start_time": "2020-02-08T09:31:09.835636Z"
        },
        "id": "kHv11PK91O-i",
        "colab": {
          "base_uri": "https://localhost:8080/"
        },
        "outputId": "3e08caf2-6341-442d-a071-3f6d578932df"
      },
      "source": [
        "Hijos"
      ],
      "execution_count": null,
      "outputs": [
        {
          "output_type": "execute_result",
          "data": {
            "text/plain": [
              "{'Hijo1': {'año': 2004, 'nombre': 'Email'},\n",
              " 'Hijo2': {'año': 2007, 'nombre': 'Tobias'},\n",
              " 'Hijo3': {'año': 2011, 'nombre': 'Linus'}}"
            ]
          },
          "metadata": {},
          "execution_count": 6
        }
      ]
    },
    {
      "cell_type": "markdown",
      "metadata": {
        "id": "MlbEpqcY1O-i"
      },
      "source": [
        "#### EJEMPLO: Crear diccionarios anidados a partir de diccionarios ya existentes"
      ]
    },
    {
      "cell_type": "code",
      "metadata": {
        "ExecuteTime": {
          "end_time": "2020-02-08T09:32:28.888791Z",
          "start_time": "2020-02-08T09:32:28.884446Z"
        },
        "id": "uBayHCzg1O-i"
      },
      "source": [
        "Hijo1 = {\n",
        "    \"nombre\" : \"Emil\",\n",
        "    \"año\" : 2004\n",
        "}\n",
        "Hijo2 = {\n",
        "    \"nombre\" : \"Tobias\",\n",
        "    \"año\" : 2007\n",
        "}\n",
        "Hijo3 = { \n",
        "    \"nombre\" : \"Linus\",\n",
        "    \"año\" : 2011\n",
        "}"
      ],
      "execution_count": null,
      "outputs": []
    },
    {
      "cell_type": "code",
      "metadata": {
        "ExecuteTime": {
          "end_time": "2020-02-08T09:32:58.958310Z",
          "start_time": "2020-02-08T09:32:58.953522Z"
        },
        "id": "uMP_V-wB1O-i"
      },
      "source": [
        "hijos = {\n",
        "  \"Hijo1\" : Hijo1,\n",
        "  \"Hijo2\" : Hijo2,\n",
        "  \"Hijo3\" : Hijo3\n",
        "}"
      ],
      "execution_count": null,
      "outputs": []
    },
    {
      "cell_type": "code",
      "metadata": {
        "ExecuteTime": {
          "end_time": "2020-02-08T09:32:59.169654Z",
          "start_time": "2020-02-08T09:32:59.162202Z"
        },
        "id": "Q8bZ6Ibz1O-i",
        "colab": {
          "base_uri": "https://localhost:8080/"
        },
        "outputId": "3f9d448c-b015-49a7-df73-ce6db3a66efc"
      },
      "source": [
        "hijos"
      ],
      "execution_count": null,
      "outputs": [
        {
          "output_type": "execute_result",
          "data": {
            "text/plain": [
              "{'Hijo1': {'año': 2004, 'nombre': 'Emil'},\n",
              " 'Hijo2': {'año': 2007, 'nombre': 'Tobias'},\n",
              " 'Hijo3': {'año': 2011, 'nombre': 'Linus'}}"
            ]
          },
          "metadata": {},
          "execution_count": 9
        }
      ]
    },
    {
      "cell_type": "code",
      "metadata": {
        "id": "0GSXk4V81O-j"
      },
      "source": [
        ""
      ],
      "execution_count": null,
      "outputs": []
    },
    {
      "cell_type": "markdown",
      "metadata": {
        "id": "_sTu26ZR1O-j"
      },
      "source": [
        "Ejercicio: \n",
        "- Genera un diccionario con 3 ciudades como keys y su número de habitantes.\n",
        "- Devuelve el valor de cada etiqueta y obtiene el número total de habitantes sumando todas las ciudades.\n",
        "- Al mismo diccionario, agrega una ciudad con su número de habitantes. \n",
        "- Construir un diccionario anidado, donde solo Barcelona tenga su num de habitantes y PIB.\n",
        "- Borra los valores de Barcelona del diccionario\n",
        "    "
      ]
    },
    {
      "cell_type": "code",
      "metadata": {
        "id": "pft6E_UO1O-j"
      },
      "source": [
        ""
      ],
      "execution_count": null,
      "outputs": []
    },
    {
      "cell_type": "code",
      "metadata": {
        "id": "sDaB0-ja1O-j"
      },
      "source": [
        ""
      ],
      "execution_count": null,
      "outputs": []
    },
    {
      "cell_type": "code",
      "metadata": {
        "id": "WROMd24p1O-j"
      },
      "source": [
        ""
      ],
      "execution_count": null,
      "outputs": []
    },
    {
      "cell_type": "code",
      "metadata": {
        "id": "NtOO6bD-1O-j"
      },
      "source": [
        ""
      ],
      "execution_count": null,
      "outputs": []
    },
    {
      "cell_type": "code",
      "metadata": {
        "id": "x6gSjpiu1O-j"
      },
      "source": [
        ""
      ],
      "execution_count": null,
      "outputs": []
    },
    {
      "cell_type": "code",
      "metadata": {
        "id": "Dl5FoGdJ1O-j"
      },
      "source": [
        ""
      ],
      "execution_count": null,
      "outputs": []
    },
    {
      "cell_type": "code",
      "metadata": {
        "id": "N3w26xC51O-j"
      },
      "source": [
        ""
      ],
      "execution_count": null,
      "outputs": []
    },
    {
      "cell_type": "markdown",
      "metadata": {
        "ExecuteTime": {
          "end_time": "2021-01-30T17:39:13.400639Z",
          "start_time": "2021-01-30T17:39:13.387531Z"
        },
        "id": "JoUbVy601O-j"
      },
      "source": [
        "Ejercicio: Escribir un programa que guarde en una variable el diccionario {'Euro':'€', 'Dollar':'$', 'Yen':'¥'}, pregunte al usuario por una divisa y muestre su símbolo o un mensaje de aviso si la divisa no está en el diccionario."
      ]
    },
    {
      "cell_type": "code",
      "metadata": {
        "id": "MZ6OCKmA1O-j"
      },
      "source": [
        ""
      ],
      "execution_count": null,
      "outputs": []
    },
    {
      "cell_type": "code",
      "metadata": {
        "id": "c2OgGWc81O-j"
      },
      "source": [
        ""
      ],
      "execution_count": null,
      "outputs": []
    },
    {
      "cell_type": "code",
      "metadata": {
        "id": "kYPOABe91O-j"
      },
      "source": [
        ""
      ],
      "execution_count": null,
      "outputs": []
    },
    {
      "cell_type": "code",
      "metadata": {
        "id": "tNfo2CBd1O-j"
      },
      "source": [
        ""
      ],
      "execution_count": null,
      "outputs": []
    },
    {
      "cell_type": "code",
      "metadata": {
        "id": "W-4FJxP71O-j"
      },
      "source": [
        ""
      ],
      "execution_count": null,
      "outputs": []
    },
    {
      "cell_type": "markdown",
      "metadata": {
        "id": "MmkDucpG1O-k"
      },
      "source": [
        "Ejercicio: Escribir un programa que cree un diccionario vacío y lo vaya llenado con información sobre una persona (por ejemplo nombre, edad, sexo, teléfono, correo electrónico, etc.) que se le pida al usuario. Cada vez que se añada un nuevo dato debe imprimirse el contenido del diccionario."
      ]
    },
    {
      "cell_type": "code",
      "metadata": {
        "id": "ARst6ADE1O-k"
      },
      "source": [
        ""
      ],
      "execution_count": null,
      "outputs": []
    },
    {
      "cell_type": "code",
      "metadata": {
        "id": "LrdnKRTi1O-k"
      },
      "source": [
        ""
      ],
      "execution_count": null,
      "outputs": []
    },
    {
      "cell_type": "code",
      "metadata": {
        "id": "tT3cgsoB1O-k"
      },
      "source": [
        ""
      ],
      "execution_count": null,
      "outputs": []
    },
    {
      "cell_type": "code",
      "metadata": {
        "id": "lPCR8h0e1O-k"
      },
      "source": [
        ""
      ],
      "execution_count": null,
      "outputs": []
    },
    {
      "cell_type": "code",
      "metadata": {
        "id": "s7SbtXD-1O-k"
      },
      "source": [
        ""
      ],
      "execution_count": null,
      "outputs": []
    },
    {
      "cell_type": "code",
      "metadata": {
        "id": "SfKAsABS1O-k"
      },
      "source": [
        ""
      ],
      "execution_count": null,
      "outputs": []
    },
    {
      "cell_type": "code",
      "metadata": {
        "id": "RQVTno1u1O-k"
      },
      "source": [
        ""
      ],
      "execution_count": null,
      "outputs": []
    },
    {
      "cell_type": "code",
      "metadata": {
        "id": "D0Qvmb2x1O-k"
      },
      "source": [
        ""
      ],
      "execution_count": null,
      "outputs": []
    }
  ]
}